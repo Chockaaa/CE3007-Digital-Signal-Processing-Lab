{
 "cells": [
  {
   "cell_type": "code",
   "execution_count": 5,
   "id": "e70d7e48-5cfb-46de-9914-6cca1194a83f",
   "metadata": {
    "tags": []
   },
   "outputs": [],
   "source": [
    "import numpy as np\n",
    "import matplotlib.pyplot as plt"
   ]
  },
  {
   "cell_type": "markdown",
   "id": "776a6cc0-3a9f-4700-ab33-f798433a5468",
   "metadata": {
    "tags": []
   },
   "source": [
    "### 1. Given a periodic sequence x[n] with period N samples, state and write the Fourier Analysis equations which can be applied to it to represent it in the frequency domain?"
   ]
  },
  {
   "cell_type": "code",
   "execution_count": 6,
   "id": "057ce505-a1f5-48e4-a19a-0b2e2249696f",
   "metadata": {
    "tags": []
   },
   "outputs": [
    {
     "name": "stdout",
     "output_type": "stream",
     "text": [
      "Analysis\n"
     ]
    },
    {
     "data": {
      "text/latex": [
       "$\\displaystyle X[k] = \\sum_{n=0}^{N-1} x[n] e^{-j\\frac{2\\pi nk}{N}}$"
      ],
      "text/plain": [
       "<IPython.core.display.Math object>"
      ]
     },
     "metadata": {},
     "output_type": "display_data"
    },
    {
     "name": "stdout",
     "output_type": "stream",
     "text": [
      "Synthesis\n"
     ]
    },
    {
     "data": {
      "text/latex": [
       "$\\displaystyle x[n] = \\frac{1}{N} \\sum_{k=0}^{N-1} X[k] e^{j\\frac{2\\pi nk}{N}}$"
      ],
      "text/plain": [
       "<IPython.core.display.Math object>"
      ]
     },
     "metadata": {},
     "output_type": "display_data"
    }
   ],
   "source": [
    "from IPython.display import display, Math\n",
    "\n",
    "# Define the DFS equations in LaTeX format\n",
    "synthesis_eq = r'x[n] = \\frac{1}{N} \\sum_{k=0}^{N-1} X[k] e^{j\\frac{2\\pi nk}{N}}'\n",
    "analysis_eq = r'X[k] = \\sum_{n=0}^{N-1} x[n] e^{-j\\frac{2\\pi nk}{N}}'\n",
    "\n",
    "# Render the equations using MathJax\n",
    "print(\"Analysis\")\n",
    "display(Math(analysis_eq))\n",
    "print(\"Synthesis\")\n",
    "display(Math(synthesis_eq))\n"
   ]
  },
  {
   "cell_type": "markdown",
   "id": "e234b00a-275c-4a7f-b1e8-f09266e59ac7",
   "metadata": {},
   "source": [
    "### 2. Develop your own python routine to generate the forward and inverse DTFS (Discrete Time Fourier Series) and DFT (Discrete Fourier Transform) representation of a given periodic sequence x[n]. Your routine should have prototypes as follows:\n",
    "\n",
    "Xdtfs[k] = myDTFS(ipX, N)\n",
    "\n",
    "X_Idtfs = myIDTFS(Xdtfs)\n",
    "\n",
    "Xdft[k] = myDFT(ipX, N)\n",
    "\n",
    "X_Idft = myIDFT(Xdft)\n",
    "\n",
    "where ipX is a real vector representing a single period of a periodic sequence, and N the length of Fourier Transform. See scipy.fftpack.fft for description. Compare your results to scipy.fftpack.fft"
   ]
  },
  {
   "cell_type": "markdown",
   "id": "2d76c385-6a63-4eb2-8d92-8b963bf125d1",
   "metadata": {},
   "source": [
    "a. How is myDTFS different to myDFT?"
   ]
  },
  {
   "cell_type": "markdown",
   "id": "6467af63-b429-4cce-91c7-0cc82602e200",
   "metadata": {},
   "source": [
    "##### myDTFS computes the Discrete Time Fourier Series (DTFS) coefficients of a given periodic sequence while myDFT computes the Discrete Fourier Transform (DFT) coefficients of a finite-length sequence."
   ]
  },
  {
   "cell_type": "markdown",
   "id": "9d3eb8d0-537c-4b18-a04b-d9a2bf4774a5",
   "metadata": {},
   "source": [
    "b. Find Xdtfs[k] and Xdft[k] for ipX = [1,1,0,0,0,0,0,0,0,0,0,0]. Plot the magnitude and phase representations for the found Fourier analysis values. Clearly label the xaxis values and interpret the corresponding 𝜔 (radian/sample) value for each k."
   ]
  },
  {
   "cell_type": "code",
   "execution_count": 10,
   "id": "c6df2c7e-39f9-4041-b431-1463ff05d417",
   "metadata": {
    "tags": []
   },
   "outputs": [],
   "source": [
    "def myDTFS(x):\n",
    "    X = np.zeros(len(x), dtype=complex)\n",
    "    Omega = np.zeros(len(x))\n",
    "    N = len(x)\n",
    "    for k in np.arange(0,len(x)):\n",
    "        tmpVal = 0.0\n",
    "        Omega[k] = (2*np.pi/N)*k\n",
    "        for n in np.arange(0,len(x)):\n",
    "            tmpVal = tmpVal + x[n]*np.exp(-1j*(2*np.pi/N)*k*n)\n",
    "        X[k] = tmpVal/N\n",
    "    return (X,Omega)\n",
    "\n",
    "def myIDTFS(X):\n",
    "    x = np.zeros(len(X), dtype=float)\n",
    "    N = len(x)\n",
    "    for n in np.arange(0,len(x)):\n",
    "        tmpVal = 0.0\n",
    "        for k in np.arange(0,len(X)):\n",
    "            tmpVal = tmpVal + X[k]*np.exp(+1j*(2*np.pi/N)*k*n)\n",
    "        x[n] = np.absolute(tmpVal)\n",
    "    return (x)\n",
    "\n",
    "\n",
    "def myDFT(X):\n",
    "    X = np.zeros(len(x), dtype=complex)\n",
    "    Omega = np.zeros(len(x))\n",
    "    N = len(x)\n",
    "    for k in np.arange(0,len(x)):\n",
    "        tmpVal = 0.0\n",
    "        Omega[k] = (2*np.pi/N)*k\n",
    "        for n in np.arange(0,len(x)):\n",
    "            tmpVal = tmpVal + x[n]*np.exp(-1j*(2*np.pi/N)*k*n)\n",
    "        X[k] = tmpVal\n",
    "    return (X,Omega)\n",
    "\n",
    "def myIDFT(X):\n",
    "    x = np.zeros(len(X), dtype=float)\n",
    "    N = len(x)\n",
    "    for n in np.arange(0,len(x)):\n",
    "        tmpVal = 0.0\n",
    "        for k in np.arange(0,len(X)):\n",
    "            tmpVal = tmpVal + X[k]*np.exp(+1j*(2*np.pi/N)*k*n)\n",
    "        x[n] = np.absolute(tmpVal)/N\n",
    "    return (x)"
   ]
  },
  {
   "cell_type": "markdown",
   "id": "fe9291b0-a291-4a58-a57b-01fc4853da85",
   "metadata": {},
   "source": [
    "c. Show that your myIDTFS and myIDFT will generate the given ipX from the evaluated Xdtfs and Xdft coefficients found."
   ]
  },
  {
   "cell_type": "markdown",
   "id": "aeb0f41f-abee-4d01-a1fd-c7b0fe452903",
   "metadata": {},
   "source": [
    "d. Evaluate\n",
    "\n",
    "i) Xdtfs2[k] of ipX2 = [0, 1, 1, 0, 0, 0, 0, 0, 0, 0, 0, 0]\n",
    "\n",
    "ii) Xdtfs3[k] of ipX3 = [10, 10, 0, 0, 0, 0, 0, 0, 0, 0, 0, 0]\n",
    "\n",
    "Compare the magnitude and frequency spectral to Q2b. What are the differences?\n",
    "Hint \n",
    "i) is a time shifted version of \n",
    "\n",
    "Q2b. \n",
    "\n",
    "ii) is an amplified version of Q2b."
   ]
  },
  {
   "cell_type": "markdown",
   "id": "3922e189-e764-4e06-a970-70db7ea44a89",
   "metadata": {},
   "source": [
    "### 3. Write the DFT forward analysis using matrix notations. Each row of the analysis matrix W has a particular meaning. Plot the phase of each element of W for each row. Hence suggest the characteristic of each row. Hint‐ it is related to the index k."
   ]
  },
  {
   "cell_type": "code",
   "execution_count": null,
   "id": "3770e0c5-3edf-4ca9-9305-752f2ee6fca1",
   "metadata": {},
   "outputs": [],
   "source": []
  },
  {
   "cell_type": "markdown",
   "id": "e8bccecd-33c3-468d-8eda-fe2c9ac5d83d",
   "metadata": {},
   "source": [
    "### 4. It is not possible to computationally realise the DTFT solution of a discrete sequence. E.g, if the ipX sequence is aperiodic, ipX = [1,1,1,1,1,1,1,0,0,0,0,0,0,0,….],\n",
    "a. Explain why it is not possible to write a routine to analyse it. Hint: we can only generate a sampled version of DTFT.\n",
    "\n",
    "b. Truncate ipX sequence to have different lengths, e.g, N = 12, 24,48,96. Apply DTFS on the truncated ipX. Plot the resultant Fourier magnitude coefficients with respect to x-axis being k (integers) as well as 𝜔. Hence interpret the relationship between DTFS to DTFT."
   ]
  },
  {
   "cell_type": "code",
   "execution_count": null,
   "id": "2511833d-669e-4be1-9023-f9b9a9aeb388",
   "metadata": {},
   "outputs": [],
   "source": []
  },
  {
   "cell_type": "markdown",
   "id": "41c42390-0910-4435-b55a-025c2a781f43",
   "metadata": {},
   "source": [
    "### 5. Write your own routine to perform convolution of two sequences in Fourier domain.\n",
    "y = myDFTConvolve (ipX,impulseH)\n",
    "\n",
    "Compare your results using scipy fftconvolve [1], as well as your convolution routine developed in Lab 2. Note – you should assume that the length of ipX and impulse are different, hence you will need to take care of zero padding."
   ]
  },
  {
   "cell_type": "code",
   "execution_count": null,
   "id": "432aa191-ecbb-4157-9ab6-791fe575f3eb",
   "metadata": {},
   "outputs": [],
   "source": []
  },
  {
   "cell_type": "code",
   "execution_count": null,
   "id": "2cb51ea2-4892-41bc-96bc-08657ce721a8",
   "metadata": {},
   "outputs": [],
   "source": []
  }
 ],
 "metadata": {
  "kernelspec": {
   "display_name": "Python 3 (ipykernel)",
   "language": "python",
   "name": "python3"
  },
  "language_info": {
   "codemirror_mode": {
    "name": "ipython",
    "version": 3
   },
   "file_extension": ".py",
   "mimetype": "text/x-python",
   "name": "python",
   "nbconvert_exporter": "python",
   "pygments_lexer": "ipython3",
   "version": "3.11.2"
  }
 },
 "nbformat": 4,
 "nbformat_minor": 5
}
