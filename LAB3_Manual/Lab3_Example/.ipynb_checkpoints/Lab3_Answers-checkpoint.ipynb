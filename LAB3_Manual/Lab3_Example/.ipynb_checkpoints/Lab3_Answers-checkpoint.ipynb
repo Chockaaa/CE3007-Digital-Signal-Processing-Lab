{
 "cells": [
  {
   "cell_type": "code",
   "execution_count": null,
   "id": "e70d7e48-5cfb-46de-9914-6cca1194a83f",
   "metadata": {
    "tags": []
   },
   "outputs": [],
   "source": [
    "import numpy as np\n",
    "import matplotlib.pyplot as plt\n",
    "from scipy import signal"
   ]
  },
  {
   "cell_type": "markdown",
   "id": "776a6cc0-3a9f-4700-ab33-f798433a5468",
   "metadata": {
    "tags": []
   },
   "source": [
    "### 1. Given a periodic sequence x[n] with period N samples, state and write the Fourier Analysis equations which can be applied to it to represent it in the frequency domain?"
   ]
  },
  {
   "cell_type": "code",
   "execution_count": null,
   "id": "057ce505-a1f5-48e4-a19a-0b2e2249696f",
   "metadata": {
    "tags": []
   },
   "outputs": [],
   "source": [
    "from IPython.display import display, Math\n",
    "\n",
    "# Define the DFS equations in LaTeX format\n",
    "synthesis_eq = r'x[n] = \\frac{1}{N} \\sum_{k=0}^{N-1} X[k] e^{j\\frac{2\\pi nk}{N}}'\n",
    "analysis_eq = r'X[k] = \\sum_{n=0}^{N-1} x[n] e^{-j\\frac{2\\pi nk}{N}}'\n",
    "\n",
    "# Render the equations using MathJax\n",
    "print(\"Analysis\")\n",
    "display(Math(analysis_eq))\n",
    "print(\"Synthesis\")\n",
    "display(Math(synthesis_eq))\n"
   ]
  },
  {
   "cell_type": "markdown",
   "id": "e234b00a-275c-4a7f-b1e8-f09266e59ac7",
   "metadata": {},
   "source": [
    "### 2. Develop your own python routine to generate the forward and inverse DTFS (Discrete Time Fourier Series) and DFT (Discrete Fourier Transform) representation of a given periodic sequence x[n]. Your routine should have prototypes as follows:\n",
    "\n",
    "Xdtfs[k] = myDTFS(ipX, N)\n",
    "\n",
    "X_Idtfs = myIDTFS(Xdtfs)\n",
    "\n",
    "Xdft[k] = myDFT(ipX, N)\n",
    "\n",
    "X_Idft = myIDFT(Xdft)\n",
    "\n",
    "where ipX is a real vector representing a single period of a periodic sequence, and N the length of Fourier Transform. See scipy.fftpack.fft for description. Compare your results to scipy.fftpack.fft"
   ]
  },
  {
   "cell_type": "code",
   "execution_count": null,
   "id": "c6df2c7e-39f9-4041-b431-1463ff05d417",
   "metadata": {
    "tags": []
   },
   "outputs": [],
   "source": [
    "def myDTFS(x,N):\n",
    "    X = np.zeros(len(x), dtype=complex)\n",
    "    Omega = np.zeros(len(x))\n",
    "    N = len(x)\n",
    "    for k in np.arange(0,len(x)):\n",
    "        tmpVal = 0.0\n",
    "        Omega[k] = (2*np.pi/N)*k\n",
    "        for n in np.arange(0,len(x)):\n",
    "            tmpVal = tmpVal + x[n]*np.exp(-1j*(2*np.pi/N)*k*n)\n",
    "        X[k] = tmpVal/N\n",
    "    return (X,Omega)\n",
    "\n",
    "def myIDTFS(X):\n",
    "    x = np.zeros(len(X), dtype=float)\n",
    "    N = len(x)\n",
    "    for n in np.arange(0,len(x)):\n",
    "        tmpVal = 0.0\n",
    "        for k in np.arange(0,len(X)):\n",
    "            tmpVal = tmpVal + X[k]*np.exp(+1j*(2*np.pi/N)*k*n)\n",
    "        x[n] = np.absolute(tmpVal)\n",
    "    return (x)\n",
    "\n",
    "\n",
    "def myDFT(x,N):\n",
    "    X = np.zeros(len(x), dtype=complex)\n",
    "    Omega = np.zeros(len(x))\n",
    "    N = len(x)\n",
    "    for k in np.arange(0,len(x)):\n",
    "        tmpVal = 0.0\n",
    "        Omega[k] = (2*np.pi/N)*k\n",
    "        for n in np.arange(0,len(x)):\n",
    "            tmpVal = tmpVal + x[n]*np.exp(-1j*(2*np.pi/N)*k*n)\n",
    "        X[k] = tmpVal\n",
    "    return (X,Omega)\n",
    "\n",
    "def myIDFT(X):\n",
    "    x = np.zeros(len(X), dtype=float)\n",
    "    N = len(x)\n",
    "    for n in np.arange(0,len(x)):\n",
    "        tmpVal = 0.0\n",
    "        for k in np.arange(0,len(X)):\n",
    "            tmpVal = tmpVal + X[k]*np.exp(+1j*(2*np.pi/N)*k*n)\n",
    "        x[n] = np.absolute(tmpVal)/N\n",
    "    return (x)\n",
    "\n",
    "def plotMagPhase(x,rad):\n",
    "    f, axarr = plt.subplots(2, sharex=True)\n",
    "    x = np.absolute(x)\n",
    "    axarr[0].stem(np.arange(0,len(x)), x)\n",
    "    axarr[0].set_ylabel('mag value')\n",
    "    axarr[1].stem(np.arange(0,len(rad)), rad)\n",
    "    axarr[1].set_ylabel('Phase (rad)')\n",
    "    plt.show()"
   ]
  },
  {
   "cell_type": "markdown",
   "id": "2d76c385-6a63-4eb2-8d92-8b963bf125d1",
   "metadata": {},
   "source": [
    "a. How is myDTFS different to myDFT?"
   ]
  },
  {
   "cell_type": "markdown",
   "id": "6467af63-b429-4cce-91c7-0cc82602e200",
   "metadata": {},
   "source": [
    "##### Ans: myDTFS computes the Discrete Time Fourier Series (DTFS) coefficients of a given periodic sequence while myDFT computes the Discrete Fourier Transform (DFT) coefficients of a finite-length sequence."
   ]
  },
  {
   "cell_type": "markdown",
   "id": "9d3eb8d0-537c-4b18-a04b-d9a2bf4774a5",
   "metadata": {},
   "source": [
    "b. Find Xdtfs[k] and Xdft[k] for ipX = [1,1,0,0,0,0,0,0,0,0,0,0]. Plot the magnitude and phase representations for the found Fourier analysis values. Clearly label the xaxis values and interpret the corresponding 𝜔 (radian/sample) value for each k."
   ]
  },
  {
   "cell_type": "code",
   "execution_count": null,
   "id": "5216109e-dbb3-42bb-958d-6eef990dfb12",
   "metadata": {
    "tags": []
   },
   "outputs": [],
   "source": [
    "def q2b():\n",
    "    ipX = [1,1,0,0,0,0,0,0,0,0,0,0]\n",
    "    (X1, W1) = myDTFS(ipX,len(ipX))\n",
    "    (X2, W2) = myDFT(ipX,len(ipX))\n",
    "    (Xf1) = np.fft.fft(ipX)\n",
    "    angleX = np.angle(Xf1)\n",
    "\n",
    "    print(\"DTFS\")\n",
    "    plotMagPhase(X1, angleX)\n",
    "    print(\"DFT\")\n",
    "    plotMagPhase(X2, angleX)\n",
    "\n",
    "    for i in range(len(W1)):\n",
    "        print(\"K =\", str(i), \"w =\", W1[i])\n",
    "    return(X1, X2)"
   ]
  },
  {
   "cell_type": "code",
   "execution_count": null,
   "id": "8235e4b2-3d86-4c86-b566-325fc5ab987e",
   "metadata": {
    "tags": []
   },
   "outputs": [],
   "source": [
    "X1, X2 =q2b()"
   ]
  },
  {
   "cell_type": "markdown",
   "id": "fe9291b0-a291-4a58-a57b-01fc4853da85",
   "metadata": {},
   "source": [
    "c. Show that your myIDTFS and myIDFT will generate the given ipX from the evaluated Xdtfs and Xdft coefficients found."
   ]
  },
  {
   "cell_type": "code",
   "execution_count": null,
   "id": "81855ae8-f76d-452b-a400-f14d25ae4be2",
   "metadata": {
    "tags": []
   },
   "outputs": [],
   "source": [
    "def q2c(X1, X2):\n",
    "    x1 = myIDTFS(X1)\n",
    "    x2 = myIDFT(X2)\n",
    "    print(np.round(x1,5))\n",
    "    print(np.round(x2,5))\n",
    "   "
   ]
  },
  {
   "cell_type": "code",
   "execution_count": null,
   "id": "f3570c35-6f69-4513-a72f-ff6658836ebb",
   "metadata": {
    "tags": []
   },
   "outputs": [],
   "source": [
    "q2c(X1, X2)"
   ]
  },
  {
   "cell_type": "markdown",
   "id": "aeb0f41f-abee-4d01-a1fd-c7b0fe452903",
   "metadata": {},
   "source": [
    "d. Evaluate\n",
    "\n",
    "i) Xdtfs2[k] of ipX2 = [0, 1, 1, 0, 0, 0, 0, 0, 0, 0, 0, 0]\n",
    "\n",
    "ii) Xdtfs3[k] of ipX3 = [10, 10, 0, 0, 0, 0, 0, 0, 0, 0, 0, 0]\n",
    "\n",
    "Compare the magnitude and frequency spectral to Q2b. What are the differences?\n",
    "Hint \n",
    "i) is a time shifted version of \n",
    "\n",
    "Q2b. \n",
    "\n",
    "ii) is an amplified version of Q2b."
   ]
  },
  {
   "cell_type": "code",
   "execution_count": null,
   "id": "8f3a9c07-f5cb-44ad-b742-03f64cd3ccbc",
   "metadata": {
    "tags": []
   },
   "outputs": [],
   "source": [
    "def q2d():\n",
    "    x2=[0, 1, 1, 0, 0, 0, 0, 0, 0, 0, 0, 0]\n",
    "    x3=[10, 10, 0, 0, 0, 0, 0, 0, 0, 0, 0, 0]\n",
    "    (X2, W2) = myDTFS(x2,len(x2))\n",
    "    (X3, W3) = myDTFS(x3,len(x3))\n",
    "    Xf2 = np.fft.fft(x2)\n",
    "    Xf3 = np.fft.fft(x3)\n",
    "    Xang2 = np.angle(Xf2)\n",
    "    Xang3 = np.angle(Xf3)\n",
    "    print(\"X2\")\n",
    "    plotMagPhase(X2, Xang2)\n",
    "    # In X2, Amplitude is same, with phase difference\n",
    "    print(\"X3\")\n",
    "    plotMagPhase(X3, Xang3)\n",
    "    # In X3, Phase is same, with amplitude scaled"
   ]
  },
  {
   "cell_type": "code",
   "execution_count": null,
   "id": "e1c1612b-42f6-4f18-909d-e1be8b62e204",
   "metadata": {
    "tags": []
   },
   "outputs": [],
   "source": [
    "q2d()"
   ]
  },
  {
   "cell_type": "markdown",
   "id": "3922e189-e764-4e06-a970-70db7ea44a89",
   "metadata": {},
   "source": [
    "### 3. Write the DFT forward analysis using matrix notations. Each row of the analysis matrix W has a particular meaning. Plot the phase of each element of W for each row. Hence suggest the characteristic of each row. Hint‐ it is related to the index k."
   ]
  },
  {
   "cell_type": "code",
   "execution_count": null,
   "id": "e349f998-f7fd-47c6-aefa-718034d29d66",
   "metadata": {
    "tags": []
   },
   "outputs": [],
   "source": [
    "def plotK(W):\n",
    "    f, axarr = plt.subplots()\n",
    "    phaseW = np.angle(W)\n",
    "    print(phaseW)\n",
    "    axarr.stem(np.arange(0,len(phaseW)),phaseW)\n",
    "    plt.show()\n",
    "    print(\"\\n\\n\\n\")"
   ]
  },
  {
   "cell_type": "code",
   "execution_count": null,
   "id": "3770e0c5-3edf-4ca9-9305-752f2ee6fca1",
   "metadata": {},
   "outputs": [],
   "source": [
    "def myMatrixDFT(x):\n",
    "    N = len(x)\n",
    "    X = np.zeros(len(x), dtype=complex)\n",
    "    Omega = np.zeros(N)\n",
    "    rows, cols = (N, N) \n",
    "    print(rows,cols)\n",
    "    W = [[0 for i in range(cols)] for j in range(rows)] \n",
    "    for k in range(N):\n",
    "        for n in range(N):\n",
    "            W[k][n] = round(np.exp(-1j*2*np.pi*k*n/N),3)\n",
    "    X = np.matmul(W, x)\n",
    "    \n",
    "    for i in range(len(W)):\n",
    "        print(\"k = \", str(i))\n",
    "        plotK(W[i])\n",
    "    \n",
    "    for k in np.arange(0,len(x)):\n",
    "        Omega[k] = (2*np.pi/N)*k\n",
    "\n",
    "    return (X,Omega)"
   ]
  },
  {
   "cell_type": "code",
   "execution_count": null,
   "id": "52aba64a-5d31-41f7-879f-44c62fbfa510",
   "metadata": {
    "tags": []
   },
   "outputs": [],
   "source": [
    "def q3():\n",
    "    x=[1,1,0,0,0,0,0,0,0,0,0,0]\n",
    "    X4, W4 =myMatrixDFT(x)\n",
    "    Xf4=np.fft.fft(x)\n",
    "    Xang4 = np.angle(Xf4)\n",
    "\n",
    "q3()"
   ]
  },
  {
   "cell_type": "code",
   "execution_count": null,
   "id": "b812daa1-ad1a-47a1-90ae-ade1fee43485",
   "metadata": {
    "tags": []
   },
   "outputs": [],
   "source": [
    "#     Each row is 2*pi*k divided by N; for k = 1 to 5, The phase goes around k times faster compared to k=1. \n",
    "#     For k=7 to 11, they are conjugate of k = 5 to 1 (i.e. 1 = conjugate(11), 2 = conjugate(10) etc), \n",
    "#     hence the phase is flipped"
   ]
  },
  {
   "cell_type": "markdown",
   "id": "e8bccecd-33c3-468d-8eda-fe2c9ac5d83d",
   "metadata": {},
   "source": [
    "### 4. It is not possible to computationally realise the DTFT solution of a discrete sequence. E.g, if the ipX sequence is aperiodic, ipX = [1,1,1,1,1,1,1,0,0,0,0,0,0,0,….],\n",
    "a. Explain why it is not possible to write a routine to analyse it. Hint: we can only generate a sampled version of DTFT.\n",
    "\n",
    "b. Truncate ipX sequence to have different lengths, e.g, N = 12, 24,48,96. Apply DTFS on the truncated ipX. Plot the resultant Fourier magnitude coefficients with respect to x-axis being k (integers) as well as 𝜔. Hence interpret the relationship between DTFS to DTFT."
   ]
  },
  {
   "cell_type": "code",
   "execution_count": null,
   "id": "bf7710f8-64f4-4d82-8e76-d5f784525ccb",
   "metadata": {
    "tags": []
   },
   "outputs": [],
   "source": [
    "def plotMagnitute_DTFS_DTFT(X,Omega):\n",
    "    N=len(X)\n",
    "    \n",
    "    absX = np.absolute(X)\n",
    "    titleStr = 'x[n]'\n",
    "    f, axarr = plt.subplots(figsize=(18, 2.5))\n",
    "    angleX = np.angle(X)\n",
    "    \n",
    "    axarr.stem(np.arange(0,N), absX)\n",
    "    axarr.set_title('DTFS '+titleStr)\n",
    "    axarr.set_ylabel('mag value')\n",
    "    plt.show()\n",
    "    \n",
    "    f, axarr = plt.subplots(figsize=(18, 2.5))\n",
    "    axarr.stem(np.arange(0,N), angleX)\n",
    "    axarr.set_xlabel('omega*pi (rad/sample)')\n",
    "    axarr.set_ylabel('Phase (rad)')\n",
    "    ticks = range(N)\n",
    "    ticks = [round(element * 2/N,2) for element in ticks]\n",
    "    plt.xticks(np.arange(0,N), ticks)\n",
    "    plt.xlabel('w*pi (rad/sample) ')\n",
    "    plt.show()\n",
    "    "
   ]
  },
  {
   "cell_type": "code",
   "execution_count": null,
   "id": "2511833d-669e-4be1-9023-f9b9a9aeb388",
   "metadata": {},
   "outputs": [],
   "source": [
    "#q4a: Because the result of DTFT is continuous where N approaches infinity. We can't have an infinite-sized list"
   ]
  },
  {
   "cell_type": "code",
   "execution_count": null,
   "id": "5a992f31-47a4-4750-b1ae-19fb6efe381f",
   "metadata": {
    "tags": []
   },
   "outputs": [],
   "source": [
    "def q4b():\n",
    "    NList = [12, 24, 48, 96]\n",
    "    for N in NList:\n",
    "        print(\"N =\", str(N))\n",
    "        input_ipX = np.zeros(N)\n",
    "        input_ipX[0:7]=1\n",
    "        (x4b,w5b) = myDTFS(input_ipX,len(input_ipX))\n",
    "        #print(x4b)\n",
    "        #print(w5b)\n",
    "        plotMagnitute_DTFS_DTFT(x4b,w5b)\n",
    "        \n",
    "        \n",
    "# As we can see from the plots, as N increases, the DTFS coefficients become more and more closely spaced in frequency. \n",
    "# In the limit as N approaches infinity, the DTFS coefficients approach the values of the DTFT. \n",
    "# Therefore, the DTFS is a sampled version of the DTFT, \n",
    "# and it provides a good approximation of the DTFT for sufficiently large N."
   ]
  },
  {
   "cell_type": "code",
   "execution_count": null,
   "id": "90d16059-4603-41c8-a8ae-2cd6e972e481",
   "metadata": {
    "tags": []
   },
   "outputs": [],
   "source": [
    "q4b()"
   ]
  },
  {
   "cell_type": "markdown",
   "id": "41c42390-0910-4435-b55a-025c2a781f43",
   "metadata": {},
   "source": [
    "### 5. Write your own routine to perform convolution of two sequences in Fourier domain.\n",
    "y = myDFTConvolve (ipX,impulseH)\n",
    "\n",
    "Compare your results using scipy fftconvolve [1], as well as your convolution routine developed in Lab 2. Note – you should assume that the length of ipX and impulse are different, hence you will need to take care of zero padding."
   ]
  },
  {
   "cell_type": "code",
   "execution_count": null,
   "id": "77da03c5-cbb3-4533-bd0d-743f9f5d94a2",
   "metadata": {
    "tags": []
   },
   "outputs": [],
   "source": [
    "def myDFTConvolve(x,h):\n",
    "    N = len(x)\n",
    "    M = len(h)\n",
    "    y = np.zeros(N+M-1)\n",
    "    for n in range(N+M-1):\n",
    "        for k in range(M):\n",
    "            if n-k >= 0 and n-k < N:\n",
    "                y[n] += x[n-k] * h[k]\n",
    "    return np.array(y).astype(int)"
   ]
  },
  {
   "cell_type": "code",
   "execution_count": null,
   "id": "432aa191-ecbb-4157-9ab6-791fe575f3eb",
   "metadata": {},
   "outputs": [],
   "source": [
    "def q5():\n",
    "    x = [1,1,1,0,0,0,0,0,0]\n",
    "    h = [1,1,0,0]\n",
    "    print(\"myDFTConvolve:\")\n",
    "    y = myDFTConvolve(x,h)\n",
    "    print(y)\n",
    "    print(\"Scipy fftconvolve:\")\n",
    "    print(np.round(signal.fftconvolve(x,h),5))"
   ]
  },
  {
   "cell_type": "code",
   "execution_count": null,
   "id": "2cb51ea2-4892-41bc-96bc-08657ce721a8",
   "metadata": {},
   "outputs": [],
   "source": [
    "q5()"
   ]
  }
 ],
 "metadata": {
  "kernelspec": {
   "display_name": "Python 3 (ipykernel)",
   "language": "python",
   "name": "python3"
  },
  "language_info": {
   "codemirror_mode": {
    "name": "ipython",
    "version": 3
   },
   "file_extension": ".py",
   "mimetype": "text/x-python",
   "name": "python",
   "nbconvert_exporter": "python",
   "pygments_lexer": "ipython3",
   "version": "3.11.2"
  }
 },
 "nbformat": 4,
 "nbformat_minor": 5
}
